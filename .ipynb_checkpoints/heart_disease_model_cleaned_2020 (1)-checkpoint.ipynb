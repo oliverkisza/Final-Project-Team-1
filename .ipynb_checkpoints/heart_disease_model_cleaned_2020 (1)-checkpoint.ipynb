{
 "cells": [
  {
   "cell_type": "code",
   "execution_count": 1,
   "metadata": {
    "colab": {
     "base_uri": "https://localhost:8080/",
     "height": 226
    },
    "id": "EVYaDQHGXuoO",
    "outputId": "8ee0b936-d12f-4690-dccd-ba5fa7b09d80"
   },
   "outputs": [
    {
     "ename": "ModuleNotFoundError",
     "evalue": "No module named 'sklearn'",
     "output_type": "error",
     "traceback": [
      "\u001b[0;31m---------------------------------------------------------------------------\u001b[0m",
      "\u001b[0;31mModuleNotFoundError\u001b[0m                       Traceback (most recent call last)",
      "Cell \u001b[0;32mIn[1], line 2\u001b[0m\n\u001b[1;32m      1\u001b[0m url \u001b[38;5;241m=\u001b[39m \u001b[38;5;124m\"\u001b[39m\u001b[38;5;124m\"\u001b[39m\n\u001b[0;32m----> 2\u001b[0m \u001b[38;5;28;01mfrom\u001b[39;00m \u001b[38;5;21;01msklearn\u001b[39;00m\u001b[38;5;21;01m.\u001b[39;00m\u001b[38;5;21;01mmodel_selection\u001b[39;00m \u001b[38;5;28;01mimport\u001b[39;00m train_test_split\n\u001b[1;32m      3\u001b[0m \u001b[38;5;28;01mfrom\u001b[39;00m \u001b[38;5;21;01msklearn\u001b[39;00m\u001b[38;5;21;01m.\u001b[39;00m\u001b[38;5;21;01mpreprocessing\u001b[39;00m \u001b[38;5;28;01mimport\u001b[39;00m StandardScaler\n\u001b[1;32m      4\u001b[0m \u001b[38;5;28;01mimport\u001b[39;00m \u001b[38;5;21;01mpandas\u001b[39;00m \u001b[38;5;28;01mas\u001b[39;00m \u001b[38;5;21;01mpd\u001b[39;00m\n",
      "\u001b[0;31mModuleNotFoundError\u001b[0m: No module named 'sklearn'"
     ]
    }
   ],
   "source": [
    "url = \"\"\n",
    "from sklearn.model_selection import train_test_split\n",
    "from sklearn.preprocessing import StandardScaler\n",
    "import pandas as pd\n",
    "import tensorflow as tf\n",
    "from sklearn.linear_model import LogisticRegression\n",
    "from sklearn.metrics import classification_report\n",
    "#  Import and read the hear disease data csv file\n",
    "import pandas as pd\n",
    "df = pd.read_csv('Resouces/2020_cleaned.csv')\n",
    "df"
   ]
  },
  {
   "cell_type": "code",
   "execution_count": 70,
   "metadata": {
    "colab": {
     "base_uri": "https://localhost:8080/"
    },
    "id": "fxU9uxfea3r5",
    "outputId": "a2746390-29ed-458a-9456-640e3cf6795a"
   },
   "outputs": [
    {
     "data": {
      "text/plain": [
       "HeartDisease             2\n",
       "BMI                   3575\n",
       "Smoking                  2\n",
       "AlcoholDrinking          2\n",
       "Stroke                   2\n",
       "PhysicalHealthDays      31\n",
       "MentalHealthDays        31\n",
       "DifficultyWalking        2\n",
       "Sex                      2\n",
       "AgeCategory             13\n",
       "Race                     6\n",
       "Diabetic                 3\n",
       "PhysicalActivities       2\n",
       "GeneralHealth            5\n",
       "HoursOfSleep            24\n",
       "Asthma                   2\n",
       "KidneyDisease            2\n",
       "SkinCancer               2\n",
       "dtype: int64"
      ]
     },
     "execution_count": 70,
     "metadata": {},
     "output_type": "execute_result"
    }
   ],
   "source": [
    "df.nunique()"
   ]
  },
  {
   "cell_type": "code",
   "execution_count": 71,
   "metadata": {
    "colab": {
     "base_uri": "https://localhost:8080/"
    },
    "id": "iQaT916ga4CE",
    "outputId": "f480bd0c-1e62-42bd-e54b-2cc67a21ab05"
   },
   "outputs": [
    {
     "data": {
      "text/plain": [
       "Very good    111792\n",
       "Good          90635\n",
       "Excellent     66095\n",
       "Fair          33550\n",
       "Poor          10942\n",
       "Name: GeneralHealth, dtype: int64"
      ]
     },
     "execution_count": 71,
     "metadata": {},
     "output_type": "execute_result"
    }
   ],
   "source": [
    "values = df[\"GeneralHealth\"].value_counts()\n",
    "values"
   ]
  },
  {
   "cell_type": "code",
   "execution_count": 72,
   "metadata": {},
   "outputs": [
    {
     "data": {
      "text/plain": [
       "65-69          33249\n",
       "60-64          32803\n",
       "70-74          30140\n",
       "55-59          29025\n",
       "50-54          24856\n",
       "80 or older    23462\n",
       "45-49          21393\n",
       "18-24          20891\n",
       "75-79          20885\n",
       "40-44          20706\n",
       "35-39          20277\n",
       "30-34          18547\n",
       "25-29          16780\n",
       "Name: AgeCategory, dtype: int64"
      ]
     },
     "execution_count": 72,
     "metadata": {},
     "output_type": "execute_result"
    }
   ],
   "source": [
    "df['AgeCategory'].value_counts()\n"
   ]
  },
  {
   "cell_type": "code",
   "execution_count": 73,
   "metadata": {},
   "outputs": [
    {
     "data": {
      "text/html": [
       "<div>\n",
       "<style scoped>\n",
       "    .dataframe tbody tr th:only-of-type {\n",
       "        vertical-align: middle;\n",
       "    }\n",
       "\n",
       "    .dataframe tbody tr th {\n",
       "        vertical-align: top;\n",
       "    }\n",
       "\n",
       "    .dataframe thead th {\n",
       "        text-align: right;\n",
       "    }\n",
       "</style>\n",
       "<table border=\"1\" class=\"dataframe\">\n",
       "  <thead>\n",
       "    <tr style=\"text-align: right;\">\n",
       "      <th></th>\n",
       "      <th>BMI</th>\n",
       "      <th>PhysicalHealthDays</th>\n",
       "      <th>MentalHealthDays</th>\n",
       "      <th>HoursOfSleep</th>\n",
       "      <th>HeartDisease_No</th>\n",
       "      <th>HeartDisease_Yes</th>\n",
       "      <th>Smoking_No</th>\n",
       "      <th>Smoking_Yes</th>\n",
       "      <th>AlcoholDrinking_No</th>\n",
       "      <th>AlcoholDrinking_Yes</th>\n",
       "      <th>...</th>\n",
       "      <th>GeneralHealth_Fair</th>\n",
       "      <th>GeneralHealth_Good</th>\n",
       "      <th>GeneralHealth_Poor</th>\n",
       "      <th>GeneralHealth_Very good</th>\n",
       "      <th>Asthma_No</th>\n",
       "      <th>Asthma_Yes</th>\n",
       "      <th>KidneyDisease_No</th>\n",
       "      <th>KidneyDisease_Yes</th>\n",
       "      <th>SkinCancer_No</th>\n",
       "      <th>SkinCancer_Yes</th>\n",
       "    </tr>\n",
       "  </thead>\n",
       "  <tbody>\n",
       "    <tr>\n",
       "      <th>0</th>\n",
       "      <td>16.60</td>\n",
       "      <td>3.0</td>\n",
       "      <td>30.0</td>\n",
       "      <td>5.0</td>\n",
       "      <td>1.0</td>\n",
       "      <td>0.0</td>\n",
       "      <td>0.0</td>\n",
       "      <td>1.0</td>\n",
       "      <td>1.0</td>\n",
       "      <td>0.0</td>\n",
       "      <td>...</td>\n",
       "      <td>0.0</td>\n",
       "      <td>0.0</td>\n",
       "      <td>0.0</td>\n",
       "      <td>1.0</td>\n",
       "      <td>0.0</td>\n",
       "      <td>1.0</td>\n",
       "      <td>1.0</td>\n",
       "      <td>0.0</td>\n",
       "      <td>0.0</td>\n",
       "      <td>1.0</td>\n",
       "    </tr>\n",
       "    <tr>\n",
       "      <th>1</th>\n",
       "      <td>20.34</td>\n",
       "      <td>0.0</td>\n",
       "      <td>0.0</td>\n",
       "      <td>7.0</td>\n",
       "      <td>1.0</td>\n",
       "      <td>0.0</td>\n",
       "      <td>1.0</td>\n",
       "      <td>0.0</td>\n",
       "      <td>1.0</td>\n",
       "      <td>0.0</td>\n",
       "      <td>...</td>\n",
       "      <td>0.0</td>\n",
       "      <td>0.0</td>\n",
       "      <td>0.0</td>\n",
       "      <td>1.0</td>\n",
       "      <td>1.0</td>\n",
       "      <td>0.0</td>\n",
       "      <td>1.0</td>\n",
       "      <td>0.0</td>\n",
       "      <td>1.0</td>\n",
       "      <td>0.0</td>\n",
       "    </tr>\n",
       "    <tr>\n",
       "      <th>2</th>\n",
       "      <td>26.58</td>\n",
       "      <td>20.0</td>\n",
       "      <td>30.0</td>\n",
       "      <td>8.0</td>\n",
       "      <td>1.0</td>\n",
       "      <td>0.0</td>\n",
       "      <td>0.0</td>\n",
       "      <td>1.0</td>\n",
       "      <td>1.0</td>\n",
       "      <td>0.0</td>\n",
       "      <td>...</td>\n",
       "      <td>1.0</td>\n",
       "      <td>0.0</td>\n",
       "      <td>0.0</td>\n",
       "      <td>0.0</td>\n",
       "      <td>0.0</td>\n",
       "      <td>1.0</td>\n",
       "      <td>1.0</td>\n",
       "      <td>0.0</td>\n",
       "      <td>1.0</td>\n",
       "      <td>0.0</td>\n",
       "    </tr>\n",
       "    <tr>\n",
       "      <th>3</th>\n",
       "      <td>24.21</td>\n",
       "      <td>0.0</td>\n",
       "      <td>0.0</td>\n",
       "      <td>6.0</td>\n",
       "      <td>1.0</td>\n",
       "      <td>0.0</td>\n",
       "      <td>1.0</td>\n",
       "      <td>0.0</td>\n",
       "      <td>1.0</td>\n",
       "      <td>0.0</td>\n",
       "      <td>...</td>\n",
       "      <td>0.0</td>\n",
       "      <td>1.0</td>\n",
       "      <td>0.0</td>\n",
       "      <td>0.0</td>\n",
       "      <td>1.0</td>\n",
       "      <td>0.0</td>\n",
       "      <td>1.0</td>\n",
       "      <td>0.0</td>\n",
       "      <td>0.0</td>\n",
       "      <td>1.0</td>\n",
       "    </tr>\n",
       "    <tr>\n",
       "      <th>4</th>\n",
       "      <td>23.71</td>\n",
       "      <td>28.0</td>\n",
       "      <td>0.0</td>\n",
       "      <td>8.0</td>\n",
       "      <td>1.0</td>\n",
       "      <td>0.0</td>\n",
       "      <td>1.0</td>\n",
       "      <td>0.0</td>\n",
       "      <td>1.0</td>\n",
       "      <td>0.0</td>\n",
       "      <td>...</td>\n",
       "      <td>0.0</td>\n",
       "      <td>0.0</td>\n",
       "      <td>0.0</td>\n",
       "      <td>1.0</td>\n",
       "      <td>1.0</td>\n",
       "      <td>0.0</td>\n",
       "      <td>1.0</td>\n",
       "      <td>0.0</td>\n",
       "      <td>1.0</td>\n",
       "      <td>0.0</td>\n",
       "    </tr>\n",
       "    <tr>\n",
       "      <th>5</th>\n",
       "      <td>28.87</td>\n",
       "      <td>6.0</td>\n",
       "      <td>0.0</td>\n",
       "      <td>12.0</td>\n",
       "      <td>0.0</td>\n",
       "      <td>1.0</td>\n",
       "      <td>0.0</td>\n",
       "      <td>1.0</td>\n",
       "      <td>1.0</td>\n",
       "      <td>0.0</td>\n",
       "      <td>...</td>\n",
       "      <td>1.0</td>\n",
       "      <td>0.0</td>\n",
       "      <td>0.0</td>\n",
       "      <td>0.0</td>\n",
       "      <td>1.0</td>\n",
       "      <td>0.0</td>\n",
       "      <td>1.0</td>\n",
       "      <td>0.0</td>\n",
       "      <td>1.0</td>\n",
       "      <td>0.0</td>\n",
       "    </tr>\n",
       "    <tr>\n",
       "      <th>6</th>\n",
       "      <td>21.63</td>\n",
       "      <td>15.0</td>\n",
       "      <td>0.0</td>\n",
       "      <td>4.0</td>\n",
       "      <td>1.0</td>\n",
       "      <td>0.0</td>\n",
       "      <td>1.0</td>\n",
       "      <td>0.0</td>\n",
       "      <td>1.0</td>\n",
       "      <td>0.0</td>\n",
       "      <td>...</td>\n",
       "      <td>1.0</td>\n",
       "      <td>0.0</td>\n",
       "      <td>0.0</td>\n",
       "      <td>0.0</td>\n",
       "      <td>0.0</td>\n",
       "      <td>1.0</td>\n",
       "      <td>1.0</td>\n",
       "      <td>0.0</td>\n",
       "      <td>0.0</td>\n",
       "      <td>1.0</td>\n",
       "    </tr>\n",
       "    <tr>\n",
       "      <th>7</th>\n",
       "      <td>31.64</td>\n",
       "      <td>5.0</td>\n",
       "      <td>0.0</td>\n",
       "      <td>9.0</td>\n",
       "      <td>1.0</td>\n",
       "      <td>0.0</td>\n",
       "      <td>0.0</td>\n",
       "      <td>1.0</td>\n",
       "      <td>1.0</td>\n",
       "      <td>0.0</td>\n",
       "      <td>...</td>\n",
       "      <td>0.0</td>\n",
       "      <td>1.0</td>\n",
       "      <td>0.0</td>\n",
       "      <td>0.0</td>\n",
       "      <td>0.0</td>\n",
       "      <td>1.0</td>\n",
       "      <td>1.0</td>\n",
       "      <td>0.0</td>\n",
       "      <td>1.0</td>\n",
       "      <td>0.0</td>\n",
       "    </tr>\n",
       "    <tr>\n",
       "      <th>8</th>\n",
       "      <td>40.69</td>\n",
       "      <td>0.0</td>\n",
       "      <td>0.0</td>\n",
       "      <td>10.0</td>\n",
       "      <td>1.0</td>\n",
       "      <td>0.0</td>\n",
       "      <td>1.0</td>\n",
       "      <td>0.0</td>\n",
       "      <td>1.0</td>\n",
       "      <td>0.0</td>\n",
       "      <td>...</td>\n",
       "      <td>0.0</td>\n",
       "      <td>1.0</td>\n",
       "      <td>0.0</td>\n",
       "      <td>0.0</td>\n",
       "      <td>1.0</td>\n",
       "      <td>0.0</td>\n",
       "      <td>1.0</td>\n",
       "      <td>0.0</td>\n",
       "      <td>1.0</td>\n",
       "      <td>0.0</td>\n",
       "    </tr>\n",
       "    <tr>\n",
       "      <th>9</th>\n",
       "      <td>34.30</td>\n",
       "      <td>30.0</td>\n",
       "      <td>0.0</td>\n",
       "      <td>15.0</td>\n",
       "      <td>0.0</td>\n",
       "      <td>1.0</td>\n",
       "      <td>0.0</td>\n",
       "      <td>1.0</td>\n",
       "      <td>1.0</td>\n",
       "      <td>0.0</td>\n",
       "      <td>...</td>\n",
       "      <td>0.0</td>\n",
       "      <td>0.0</td>\n",
       "      <td>1.0</td>\n",
       "      <td>0.0</td>\n",
       "      <td>0.0</td>\n",
       "      <td>1.0</td>\n",
       "      <td>1.0</td>\n",
       "      <td>0.0</td>\n",
       "      <td>1.0</td>\n",
       "      <td>0.0</td>\n",
       "    </tr>\n",
       "  </tbody>\n",
       "</table>\n",
       "<p>10 rows × 51 columns</p>\n",
       "</div>"
      ],
      "text/plain": [
       "     BMI  PhysicalHealthDays  MentalHealthDays  HoursOfSleep  HeartDisease_No  \\\n",
       "0  16.60                 3.0              30.0           5.0              1.0   \n",
       "1  20.34                 0.0               0.0           7.0              1.0   \n",
       "2  26.58                20.0              30.0           8.0              1.0   \n",
       "3  24.21                 0.0               0.0           6.0              1.0   \n",
       "4  23.71                28.0               0.0           8.0              1.0   \n",
       "5  28.87                 6.0               0.0          12.0              0.0   \n",
       "6  21.63                15.0               0.0           4.0              1.0   \n",
       "7  31.64                 5.0               0.0           9.0              1.0   \n",
       "8  40.69                 0.0               0.0          10.0              1.0   \n",
       "9  34.30                30.0               0.0          15.0              0.0   \n",
       "\n",
       "   HeartDisease_Yes  Smoking_No  Smoking_Yes  AlcoholDrinking_No  \\\n",
       "0               0.0         0.0          1.0                 1.0   \n",
       "1               0.0         1.0          0.0                 1.0   \n",
       "2               0.0         0.0          1.0                 1.0   \n",
       "3               0.0         1.0          0.0                 1.0   \n",
       "4               0.0         1.0          0.0                 1.0   \n",
       "5               1.0         0.0          1.0                 1.0   \n",
       "6               0.0         1.0          0.0                 1.0   \n",
       "7               0.0         0.0          1.0                 1.0   \n",
       "8               0.0         1.0          0.0                 1.0   \n",
       "9               1.0         0.0          1.0                 1.0   \n",
       "\n",
       "   AlcoholDrinking_Yes  ...  GeneralHealth_Fair  GeneralHealth_Good  \\\n",
       "0                  0.0  ...                 0.0                 0.0   \n",
       "1                  0.0  ...                 0.0                 0.0   \n",
       "2                  0.0  ...                 1.0                 0.0   \n",
       "3                  0.0  ...                 0.0                 1.0   \n",
       "4                  0.0  ...                 0.0                 0.0   \n",
       "5                  0.0  ...                 1.0                 0.0   \n",
       "6                  0.0  ...                 1.0                 0.0   \n",
       "7                  0.0  ...                 0.0                 1.0   \n",
       "8                  0.0  ...                 0.0                 1.0   \n",
       "9                  0.0  ...                 0.0                 0.0   \n",
       "\n",
       "   GeneralHealth_Poor  GeneralHealth_Very good  Asthma_No  Asthma_Yes  \\\n",
       "0                 0.0                      1.0        0.0         1.0   \n",
       "1                 0.0                      1.0        1.0         0.0   \n",
       "2                 0.0                      0.0        0.0         1.0   \n",
       "3                 0.0                      0.0        1.0         0.0   \n",
       "4                 0.0                      1.0        1.0         0.0   \n",
       "5                 0.0                      0.0        1.0         0.0   \n",
       "6                 0.0                      0.0        0.0         1.0   \n",
       "7                 0.0                      0.0        0.0         1.0   \n",
       "8                 0.0                      0.0        1.0         0.0   \n",
       "9                 1.0                      0.0        0.0         1.0   \n",
       "\n",
       "   KidneyDisease_No  KidneyDisease_Yes  SkinCancer_No  SkinCancer_Yes  \n",
       "0               1.0                0.0            0.0             1.0  \n",
       "1               1.0                0.0            1.0             0.0  \n",
       "2               1.0                0.0            1.0             0.0  \n",
       "3               1.0                0.0            0.0             1.0  \n",
       "4               1.0                0.0            1.0             0.0  \n",
       "5               1.0                0.0            1.0             0.0  \n",
       "6               1.0                0.0            0.0             1.0  \n",
       "7               1.0                0.0            1.0             0.0  \n",
       "8               1.0                0.0            1.0             0.0  \n",
       "9               1.0                0.0            1.0             0.0  \n",
       "\n",
       "[10 rows x 51 columns]"
      ]
     },
     "execution_count": 73,
     "metadata": {},
     "output_type": "execute_result"
    }
   ],
   "source": [
    "filtered_df = pd.get_dummies(df,dtype=float)\n",
    "filtered_df.head(10)"
   ]
  },
  {
   "cell_type": "code",
   "execution_count": 74,
   "metadata": {
    "id": "UPaiStVngLPP"
   },
   "outputs": [],
   "source": [
    "y = filtered_df['HeartDisease_Yes']\n",
    "X = filtered_df.drop(columns={'HeartDisease_Yes', 'HeartDisease_No'})\n",
    "X_train, X_test, y_train, y_test = train_test_split(X,y,random_state = 42, stratify=y)"
   ]
  },
  {
   "cell_type": "code",
   "execution_count": 87,
   "metadata": {},
   "outputs": [],
   "source": [
    "scaler = StandardScaler()\n",
    "\n",
    "# Fit the StandardScaler\n",
    "X_scaler = scaler.fit(X_train)\n",
    "\n",
    "# Scale the data\n",
    "X_train_scaled = X_scaler.transform(X_train)\n",
    "X_test_scaled = X_scaler.transform(X_test)"
   ]
  },
  {
   "cell_type": "code",
   "execution_count": 88,
   "metadata": {},
   "outputs": [
    {
     "name": "stderr",
     "output_type": "stream",
     "text": [
      "c:\\Users\\brand\\anaconda3\\lib\\site-packages\\sklearn\\base.py:432: UserWarning: X has feature names, but LogisticRegression was fitted without feature names\n",
      "  warnings.warn(\n"
     ]
    }
   ],
   "source": [
    "logistic_regression_model = LogisticRegression(random_state=9)\n",
    "\n",
    "# Fit and save the logistic regression model using the training data\n",
    "lr_model = logistic_regression_model.fit(X_train_scaled, y_train)\n",
    "\n",
    "training_predictions = lr_model.predict(X_train_scaled)\n",
    "\n",
    "#Generate testing predictions\n",
    "testing_predictions = logistic_regression_model.predict(X_test)"
   ]
  },
  {
   "cell_type": "code",
   "execution_count": 91,
   "metadata": {},
   "outputs": [
    {
     "name": "stdout",
     "output_type": "stream",
     "text": [
      "[[213033   1789]\n",
      " [ 17779   2159]]\n"
     ]
    }
   ],
   "source": [
    "from sklearn.metrics import confusion_matrix\n",
    "\n",
    "# Create and save the confusion matrix for the training data\n",
    "training_matrix = confusion_matrix(y_train, training_predictions)\n",
    "\n",
    "# Print the confusion matrix for the training data\n",
    "print(training_matrix)"
   ]
  },
  {
   "cell_type": "code",
   "execution_count": 92,
   "metadata": {},
   "outputs": [
    {
     "name": "stdout",
     "output_type": "stream",
     "text": [
      "[[70773   835]\n",
      " [ 6263   383]]\n"
     ]
    }
   ],
   "source": [
    "test_matrix = confusion_matrix(y_test, testing_predictions)\n",
    "\n",
    "# Print the confusion matrix for the testing data\n",
    "print(test_matrix)"
   ]
  },
  {
   "cell_type": "code",
   "execution_count": 93,
   "metadata": {},
   "outputs": [
    {
     "name": "stdout",
     "output_type": "stream",
     "text": [
      "              precision    recall  f1-score   support\n",
      "\n",
      "         0.0       0.92      0.99      0.96    214822\n",
      "         1.0       0.55      0.11      0.18     19938\n",
      "\n",
      "    accuracy                           0.92    234760\n",
      "   macro avg       0.73      0.55      0.57    234760\n",
      "weighted avg       0.89      0.92      0.89    234760\n",
      "\n"
     ]
    }
   ],
   "source": [
    "training_report = classification_report(y_train, training_predictions)\n",
    "\n",
    "# Print the training classification report\n",
    "print(training_report)"
   ]
  },
  {
   "cell_type": "code",
   "execution_count": 94,
   "metadata": {},
   "outputs": [
    {
     "name": "stdout",
     "output_type": "stream",
     "text": [
      "              precision    recall  f1-score   support\n",
      "\n",
      "         0.0       0.92      0.99      0.95     71608\n",
      "         1.0       0.31      0.06      0.10      6646\n",
      "\n",
      "    accuracy                           0.91     78254\n",
      "   macro avg       0.62      0.52      0.52     78254\n",
      "weighted avg       0.87      0.91      0.88     78254\n",
      "\n"
     ]
    }
   ],
   "source": [
    "# Create and save the testing classification report\n",
    "testing_report = classification_report(y_test, testing_predictions)\n",
    "\n",
    "# Print the testing classification report\n",
    "print(testing_report)"
   ]
  },
  {
   "cell_type": "code",
   "execution_count": 85,
   "metadata": {
    "id": "UM59pEcLhlSM"
   },
   "outputs": [],
   "source": [
    "scaler = StandardScaler()\n",
    "\n",
    "# Fit the StandardScaler\n",
    "X_scaler = scaler.fit(X_train)\n",
    "\n",
    "# Scale the data\n",
    "X_train_scaled = X_scaler.transform(X_train)\n",
    "X_test_scaled = X_scaler.transform(X_test)"
   ]
  },
  {
   "cell_type": "code",
   "execution_count": 86,
   "metadata": {
    "colab": {
     "base_uri": "https://localhost:8080/"
    },
    "id": "l2ON9fYWhp0m",
    "outputId": "2d082378-25b2-449a-a447-db2f1e155430"
   },
   "outputs": [
    {
     "data": {
      "text/plain": [
       "49"
      ]
     },
     "execution_count": 86,
     "metadata": {},
     "output_type": "execute_result"
    }
   ],
   "source": [
    "number_input_features = len( X_train_scaled[0])\n",
    "number_input_features"
   ]
  },
  {
   "cell_type": "markdown",
   "metadata": {
    "id": "8Seb6P9Xhu-O"
   },
   "source": [
    "## Compile, Train and Evaluate the Model"
   ]
  },
  {
   "cell_type": "code",
   "execution_count": 50,
   "metadata": {
    "colab": {
     "base_uri": "https://localhost:8080/"
    },
    "id": "5UivxErhhwwY",
    "outputId": "e1e75ec8-23ac-400c-cd25-f205102ae34f"
   },
   "outputs": [
    {
     "name": "stdout",
     "output_type": "stream",
     "text": [
      "WARNING:tensorflow:From c:\\Users\\brand\\anaconda3\\lib\\site-packages\\keras\\src\\backend.py:873: The name tf.get_default_graph is deprecated. Please use tf.compat.v1.get_default_graph instead.\n",
      "\n",
      "Model: \"sequential\"\n",
      "_________________________________________________________________\n",
      " Layer (type)                Output Shape              Param #   \n",
      "=================================================================\n",
      " dense (Dense)               (None, 50)                2500      \n",
      "                                                                 \n",
      " dense_1 (Dense)             (None, 30)                1530      \n",
      "                                                                 \n",
      " dense_2 (Dense)             (None, 1)                 31        \n",
      "                                                                 \n",
      "=================================================================\n",
      "Total params: 4061 (15.86 KB)\n",
      "Trainable params: 4061 (15.86 KB)\n",
      "Non-trainable params: 0 (0.00 Byte)\n",
      "_________________________________________________________________\n"
     ]
    }
   ],
   "source": [
    "number_input_features = len( X_train_scaled[0])\n",
    "\n",
    "nn = tf.keras.models.Sequential()\n",
    "\n",
    "# First hidden layer\n",
    "nn.add(tf.keras.layers.Dense(units=50, activation='relu', input_dim=number_input_features))\n",
    "\n",
    "# Second hidden layer\n",
    "nn.add(tf.keras.layers.Dense(units=30, activation='relu'))\n",
    "\n",
    "# Output layer\n",
    "nn.add(tf.keras.layers.Dense(units=1, activation='sigmoid'))\n",
    "\n",
    "# Check the structure of the model\n",
    "nn.summary()"
   ]
  },
  {
   "cell_type": "code",
   "execution_count": 51,
   "metadata": {
    "id": "sjovkPwUiI7c"
   },
   "outputs": [
    {
     "name": "stdout",
     "output_type": "stream",
     "text": [
      "WARNING:tensorflow:From c:\\Users\\brand\\anaconda3\\lib\\site-packages\\keras\\src\\optimizers\\__init__.py:309: The name tf.train.Optimizer is deprecated. Please use tf.compat.v1.train.Optimizer instead.\n",
      "\n"
     ]
    }
   ],
   "source": [
    "nn.compile(loss = 'binary_crossentropy', optimizer = 'adam', metrics=['accuracy'])"
   ]
  },
  {
   "cell_type": "code",
   "execution_count": 52,
   "metadata": {
    "colab": {
     "base_uri": "https://localhost:8080/"
    },
    "id": "4NP3Jk8YiL36",
    "outputId": "f795c0a7-59d5-4ea5-bb30-42b471bc5ef0"
   },
   "outputs": [
    {
     "name": "stdout",
     "output_type": "stream",
     "text": [
      "Epoch 1/50\n",
      "WARNING:tensorflow:From c:\\Users\\brand\\anaconda3\\lib\\site-packages\\keras\\src\\utils\\tf_utils.py:492: The name tf.ragged.RaggedTensorValue is deprecated. Please use tf.compat.v1.ragged.RaggedTensorValue instead.\n",
      "\n",
      "WARNING:tensorflow:From c:\\Users\\brand\\anaconda3\\lib\\site-packages\\keras\\src\\engine\\base_layer_utils.py:384: The name tf.executing_eagerly_outside_functions is deprecated. Please use tf.compat.v1.executing_eagerly_outside_functions instead.\n",
      "\n",
      "7337/7337 [==============================] - 9s 1ms/step - loss: 0.2310 - accuracy: 0.9141\n",
      "Epoch 2/50\n",
      "7337/7337 [==============================] - 8s 1ms/step - loss: 0.2247 - accuracy: 0.9166\n",
      "Epoch 3/50\n",
      "7337/7337 [==============================] - 7s 902us/step - loss: 0.2239 - accuracy: 0.9168\n",
      "Epoch 4/50\n",
      "7337/7337 [==============================] - 8s 1ms/step - loss: 0.2234 - accuracy: 0.9167\n",
      "Epoch 5/50\n",
      "7337/7337 [==============================] - 8s 1ms/step - loss: 0.2229 - accuracy: 0.9170\n",
      "Epoch 6/50\n",
      "7337/7337 [==============================] - 8s 1ms/step - loss: 0.2225 - accuracy: 0.9170\n",
      "Epoch 7/50\n",
      "7337/7337 [==============================] - 8s 1ms/step - loss: 0.2223 - accuracy: 0.9171\n",
      "Epoch 8/50\n",
      "7337/7337 [==============================] - 8s 1ms/step - loss: 0.2220 - accuracy: 0.9170\n",
      "Epoch 9/50\n",
      "7337/7337 [==============================] - 9s 1ms/step - loss: 0.2216 - accuracy: 0.9172\n",
      "Epoch 10/50\n",
      "7337/7337 [==============================] - 7s 985us/step - loss: 0.2215 - accuracy: 0.9172\n",
      "Epoch 11/50\n",
      "7337/7337 [==============================] - 9s 1ms/step - loss: 0.2213 - accuracy: 0.9175\n",
      "Epoch 12/50\n",
      "7337/7337 [==============================] - 9s 1ms/step - loss: 0.2210 - accuracy: 0.9174\n",
      "Epoch 13/50\n",
      "7337/7337 [==============================] - 8s 1ms/step - loss: 0.2207 - accuracy: 0.9177\n",
      "Epoch 14/50\n",
      "7337/7337 [==============================] - 8s 1ms/step - loss: 0.2204 - accuracy: 0.9177\n",
      "Epoch 15/50\n",
      "7337/7337 [==============================] - 10s 1ms/step - loss: 0.2201 - accuracy: 0.9177\n",
      "Epoch 16/50\n",
      "7337/7337 [==============================] - 9s 1ms/step - loss: 0.2198 - accuracy: 0.9181\n",
      "Epoch 17/50\n",
      "7337/7337 [==============================] - 7s 975us/step - loss: 0.2197 - accuracy: 0.9180\n",
      "Epoch 18/50\n",
      "7337/7337 [==============================] - 7s 986us/step - loss: 0.2195 - accuracy: 0.9182\n",
      "Epoch 19/50\n",
      "7337/7337 [==============================] - 10s 1ms/step - loss: 0.2192 - accuracy: 0.9182\n",
      "Epoch 20/50\n",
      "7337/7337 [==============================] - 7s 923us/step - loss: 0.2191 - accuracy: 0.9182\n",
      "Epoch 21/50\n",
      "7337/7337 [==============================] - 7s 936us/step - loss: 0.2188 - accuracy: 0.9184\n",
      "Epoch 22/50\n",
      "7337/7337 [==============================] - 8s 1ms/step - loss: 0.2186 - accuracy: 0.9186\n",
      "Epoch 23/50\n",
      "7337/7337 [==============================] - 6s 871us/step - loss: 0.2185 - accuracy: 0.9185\n",
      "Epoch 24/50\n",
      "7337/7337 [==============================] - 8s 1ms/step - loss: 0.2181 - accuracy: 0.9188\n",
      "Epoch 25/50\n",
      "7337/7337 [==============================] - 7s 912us/step - loss: 0.2180 - accuracy: 0.9190\n",
      "Epoch 26/50\n",
      "7337/7337 [==============================] - 7s 1ms/step - loss: 0.2179 - accuracy: 0.9187\n",
      "Epoch 27/50\n",
      "7337/7337 [==============================] - 7s 986us/step - loss: 0.2177 - accuracy: 0.9192\n",
      "Epoch 28/50\n",
      "7337/7337 [==============================] - 7s 942us/step - loss: 0.2177 - accuracy: 0.9189\n",
      "Epoch 29/50\n",
      "7337/7337 [==============================] - 8s 1ms/step - loss: 0.2176 - accuracy: 0.9191\n",
      "Epoch 30/50\n",
      "7337/7337 [==============================] - 6s 884us/step - loss: 0.2174 - accuracy: 0.9192\n",
      "Epoch 31/50\n",
      "7337/7337 [==============================] - 7s 909us/step - loss: 0.2173 - accuracy: 0.9192\n",
      "Epoch 32/50\n",
      "7337/7337 [==============================] - 7s 995us/step - loss: 0.2170 - accuracy: 0.9192\n",
      "Epoch 33/50\n",
      "7337/7337 [==============================] - 8s 1ms/step - loss: 0.2170 - accuracy: 0.9192\n",
      "Epoch 34/50\n",
      "7337/7337 [==============================] - 7s 936us/step - loss: 0.2168 - accuracy: 0.9194\n",
      "Epoch 35/50\n",
      "7337/7337 [==============================] - 7s 976us/step - loss: 0.2168 - accuracy: 0.9196\n",
      "Epoch 36/50\n",
      "7337/7337 [==============================] - 7s 895us/step - loss: 0.2165 - accuracy: 0.9195\n",
      "Epoch 37/50\n",
      "7337/7337 [==============================] - 8s 1ms/step - loss: 0.2165 - accuracy: 0.9195\n",
      "Epoch 38/50\n",
      "7337/7337 [==============================] - 9s 1ms/step - loss: 0.2164 - accuracy: 0.9198\n",
      "Epoch 39/50\n",
      "7337/7337 [==============================] - 7s 913us/step - loss: 0.2163 - accuracy: 0.9197\n",
      "Epoch 40/50\n",
      "7337/7337 [==============================] - 7s 1ms/step - loss: 0.2161 - accuracy: 0.9197\n",
      "Epoch 41/50\n",
      "7337/7337 [==============================] - 7s 967us/step - loss: 0.2160 - accuracy: 0.9198\n",
      "Epoch 42/50\n",
      "7337/7337 [==============================] - 8s 1ms/step - loss: 0.2161 - accuracy: 0.9199\n",
      "Epoch 43/50\n",
      "7337/7337 [==============================] - 8s 1ms/step - loss: 0.2159 - accuracy: 0.9199\n",
      "Epoch 44/50\n",
      "7337/7337 [==============================] - 8s 1ms/step - loss: 0.2158 - accuracy: 0.9199\n",
      "Epoch 45/50\n",
      "7337/7337 [==============================] - 8s 1ms/step - loss: 0.2156 - accuracy: 0.9199\n",
      "Epoch 46/50\n",
      "7337/7337 [==============================] - 7s 962us/step - loss: 0.2154 - accuracy: 0.9202\n",
      "Epoch 47/50\n",
      "7337/7337 [==============================] - 7s 999us/step - loss: 0.2155 - accuracy: 0.9201\n",
      "Epoch 48/50\n",
      "7337/7337 [==============================] - 8s 1ms/step - loss: 0.2153 - accuracy: 0.9202\n",
      "Epoch 49/50\n",
      "7337/7337 [==============================] - 8s 1ms/step - loss: 0.2152 - accuracy: 0.9204\n",
      "Epoch 50/50\n",
      "7337/7337 [==============================] - 7s 992us/step - loss: 0.2150 - accuracy: 0.9202\n"
     ]
    }
   ],
   "source": [
    "fit_model = nn.fit(X_train_scaled, y_train, epochs=50)"
   ]
  },
  {
   "cell_type": "code",
   "execution_count": 58,
   "metadata": {
    "colab": {
     "base_uri": "https://localhost:8080/"
    },
    "id": "VwcqBm4mjGCR",
    "outputId": "164953e3-324c-4052-acd6-46a53876563e"
   },
   "outputs": [
    {
     "name": "stdout",
     "output_type": "stream",
     "text": [
      "2446/2446 - 2s - loss: 0.2294 - accuracy: 0.9141 - 2s/epoch - 703us/step\n",
      "Loss: 0.22936609387397766, Accuracy: 0.9141130447387695\n"
     ]
    }
   ],
   "source": [
    "model_loss, model_accuracy = nn.evaluate(X_test_scaled,y_test,verbose=2)\n",
    "print(f\"Loss: {model_loss}, Accuracy: {model_accuracy}\")"
   ]
  },
  {
   "cell_type": "code",
   "execution_count": 64,
   "metadata": {},
   "outputs": [
    {
     "name": "stdout",
     "output_type": "stream",
     "text": [
      "Weights for layer 0: [array([[-0.58199155,  1.2314941 , -0.41880164, ...,  0.21248898,\n",
      "        -1.4256649 ,  0.0054408 ],\n",
      "       [ 0.34998253, -0.5841505 ,  0.80429745, ..., -0.5704008 ,\n",
      "        -2.2043645 , -0.1684006 ],\n",
      "       [ 0.9024134 ,  0.41003314,  0.49012497, ...,  0.5484986 ,\n",
      "        -0.01130808, -0.23280261],\n",
      "       ...,\n",
      "       [-1.1077837 ,  0.44932595, -0.4473598 , ...,  0.3648326 ,\n",
      "        -0.33372587,  0.18376257],\n",
      "       [ 1.0061455 , -0.57830393, -0.35726696, ..., -0.19295949,\n",
      "        -0.63059175, -0.49391934],\n",
      "       [-1.0633793 ,  0.43153802,  0.43456647, ..., -0.12495617,\n",
      "         0.3205803 ,  0.21373491]], dtype=float32), array([-1.0289049 , -2.2496035 , -0.45043942, -0.90682834,  0.2805442 ,\n",
      "       -0.8331379 , -1.0485468 , -1.2751426 , -0.9739019 , -0.3057287 ,\n",
      "       -1.0813757 , -0.09627936, -0.03619139, -0.86280555, -1.5740061 ,\n",
      "       -0.4426873 , -0.85401314, -0.1467573 , -1.4192091 , -0.9885605 ,\n",
      "       -1.3954166 , -2.4544272 , -1.2677813 , -2.596323  , -0.42881116,\n",
      "       -0.56189126, -0.03639082, -1.5052291 , -1.4346763 , -1.3512399 ,\n",
      "       -0.8200912 , -1.6018189 , -0.4267362 , -0.42382503, -1.1896346 ,\n",
      "       -0.99596286,  0.33706036, -1.5171728 , -1.968661  , -0.43173164,\n",
      "       -0.8877045 , -0.16778721, -1.0260286 , -1.6798388 , -1.2715809 ,\n",
      "       -1.013647  , -0.12072481, -1.788263  , -0.00268511, -0.20252712],\n",
      "      dtype=float32)]\n",
      "Weights for layer 1: [array([[-0.29629827, -2.443648  , -0.62406236, ..., -0.5912815 ,\n",
      "         0.3352577 , -0.5146146 ],\n",
      "       [-2.9663873 , -0.57059145,  0.06174868, ...,  0.16942193,\n",
      "         0.2931484 ,  0.22631775],\n",
      "       [-4.4916434 , -1.7525104 ,  0.21865946, ...,  0.0660639 ,\n",
      "        -0.63567525, -0.58753854],\n",
      "       ...,\n",
      "       [-1.111385  ,  0.5349473 ,  0.00584427, ..., -0.7678088 ,\n",
      "        -0.136186  ,  0.2424247 ],\n",
      "       [ 0.01488261, -4.7229075 , -0.8887551 , ...,  0.05881014,\n",
      "        -1.0066767 , -1.9133204 ],\n",
      "       [ 0.52299935,  0.7058475 , -0.8091065 , ..., -0.35567814,\n",
      "         0.02092837, -2.948947  ]], dtype=float32), array([ 0.45921037, -0.2843343 , -0.05470993, -0.2664374 ,  0.5279313 ,\n",
      "       -1.0231925 ,  0.49219888,  0.3342456 ,  0.0115154 ,  0.61028427,\n",
      "       -1.4612116 , -0.08087625, -1.802782  , -0.73992044,  0.7051771 ,\n",
      "        0.24950413, -0.15666871, -0.23565297, -0.30277592,  0.25727046,\n",
      "       -0.06377377,  0.33462995, -0.0587871 ,  0.00348163,  0.23137054,\n",
      "        0.7068324 ,  0.23058163, -0.3588759 , -1.0528218 , -0.11130036],\n",
      "      dtype=float32)]\n",
      "Weights for layer 2: [array([[ 0.14025319],\n",
      "       [ 0.30563486],\n",
      "       [ 0.09158441],\n",
      "       [ 1.103734  ],\n",
      "       [ 0.98197484],\n",
      "       [-0.10062646],\n",
      "       [-0.0446422 ],\n",
      "       [ 0.09900666],\n",
      "       [-0.17325066],\n",
      "       [-0.08579583],\n",
      "       [-0.188162  ],\n",
      "       [ 0.18226415],\n",
      "       [-0.00571816],\n",
      "       [ 0.179191  ],\n",
      "       [ 0.2501019 ],\n",
      "       [-0.04072746],\n",
      "       [ 0.40763155],\n",
      "       [ 1.4317229 ],\n",
      "       [ 0.09590179],\n",
      "       [ 0.4902736 ],\n",
      "       [ 0.43897292],\n",
      "       [ 0.5735177 ],\n",
      "       [-0.02910417],\n",
      "       [ 0.55780923],\n",
      "       [ 0.23446935],\n",
      "       [-0.09039037],\n",
      "       [ 0.41455087],\n",
      "       [-0.08172044],\n",
      "       [-0.21864296],\n",
      "       [ 0.39021653]], dtype=float32), array([-0.79547244], dtype=float32)]\n"
     ]
    }
   ],
   "source": [
    "#to get weights for first neural network layer\n",
    "weights = nn.layers[0].get_weights()[0]\n",
    "\n",
    "# Get the weights for all layers in the neural network\n",
    "all_layer_weights = []\n",
    "\n",
    "for layer in nn.layers:\n",
    "    if hasattr(layer, 'get_weights'):\n",
    "        layer_weights = layer.get_weights()\n",
    "        all_layer_weights.append(layer_weights)\n",
    "\n",
    "# Print or access the weights for each layer\n",
    "for i, weights in enumerate(all_layer_weights):\n",
    "    print(f\"Weights for layer {i}: {weights}\")"
   ]
  },
  {
   "cell_type": "code",
   "execution_count": 101,
   "metadata": {},
   "outputs": [
    {
     "name": "stdout",
     "output_type": "stream",
     "text": [
      "Weights for each feature(column):\n",
      "Col index: 0, Weight: 1.252384066581726\n",
      "Col index: 1, Weight: -18.20494270324707\n",
      "Col index: 2, Weight: -4.686825275421143\n",
      "Col index: 3, Weight: 2.421970844268799\n",
      "Col index: 4, Weight: 5.8094258308410645\n",
      "Col index: 5, Weight: -6.557733058929443\n",
      "Col index: 6, Weight: 0.614540159702301\n",
      "Col index: 7, Weight: 0.9114198684692383\n",
      "Col index: 8, Weight: 11.85667610168457\n",
      "Col index: 9, Weight: -12.276178359985352\n",
      "Col index: 10, Weight: 5.607500076293945\n",
      "Col index: 11, Weight: -6.53541898727417\n",
      "Col index: 12, Weight: 5.277742862701416\n",
      "Col index: 13, Weight: -5.703458786010742\n",
      "Col index: 14, Weight: 42.21323776245117\n",
      "Col index: 15, Weight: 31.180009841918945\n",
      "Col index: 16, Weight: 34.03517532348633\n",
      "Col index: 17, Weight: 35.51075744628906\n",
      "Col index: 18, Weight: 28.57444953918457\n",
      "Col index: 19, Weight: 34.247032165527344\n",
      "Col index: 20, Weight: 28.800880432128906\n",
      "Col index: 21, Weight: 29.08173942565918\n",
      "Col index: 22, Weight: 22.043954849243164\n",
      "Col index: 23, Weight: 23.65757179260254\n",
      "Col index: 24, Weight: 11.029748916625977\n",
      "Col index: 25, Weight: 6.81678581237793\n",
      "Col index: 26, Weight: 5.037196636199951\n",
      "Col index: 27, Weight: 6.129947662353516\n",
      "Col index: 28, Weight: 13.95448112487793\n",
      "Col index: 29, Weight: 14.982051849365234\n",
      "Col index: 30, Weight: 14.111353874206543\n",
      "Col index: 31, Weight: 7.023819923400879\n",
      "Col index: 32, Weight: 29.13200569152832\n",
      "Col index: 33, Weight: 9.853507041931152\n",
      "Col index: 34, Weight: -2.8897857666015625\n",
      "Col index: 35, Weight: 10.955549240112305\n",
      "Col index: 36, Weight: -1.743004322052002\n",
      "Col index: 37, Weight: 1.4849456548690796\n",
      "Col index: 38, Weight: 23.04361915588379\n",
      "Col index: 39, Weight: -4.129240036010742\n",
      "Col index: 40, Weight: 9.456439971923828\n",
      "Col index: 41, Weight: -4.027052402496338\n",
      "Col index: 42, Weight: 17.76482582092285\n",
      "Col index: 43, Weight: 0.3975045680999756\n",
      "Col index: 44, Weight: -3.140045404434204\n",
      "Col index: 45, Weight: 3.3018715381622314\n",
      "Col index: 46, Weight: -2.1670615673065186\n",
      "Col index: 47, Weight: -6.968160629272461\n",
      "Col index: 48, Weight: 4.398427486419678\n"
     ]
    },
    {
     "ename": "IndexError",
     "evalue": "index 49 is out of bounds for axis 0 with size 49",
     "output_type": "error",
     "traceback": [
      "\u001b[1;31m---------------------------------------------------------------------------\u001b[0m",
      "\u001b[1;31mIndexError\u001b[0m                                Traceback (most recent call last)",
      "\u001b[1;32mc:\\Users\\brand\\OneDrive\\Desktop\\project_final\\heart_disease_model_cleaned_2020.ipynb Cell 21\u001b[0m line \u001b[0;36m1\n\u001b[0;32m     <a href='vscode-notebook-cell:/c%3A/Users/brand/OneDrive/Desktop/project_final/heart_disease_model_cleaned_2020.ipynb#X32sZmlsZQ%3D%3D?line=9'>10</a>\u001b[0m \u001b[39mprint\u001b[39m(\u001b[39m\"\u001b[39m\u001b[39mWeights for each feature(column):\u001b[39m\u001b[39m\"\u001b[39m)\n\u001b[0;32m     <a href='vscode-notebook-cell:/c%3A/Users/brand/OneDrive/Desktop/project_final/heart_disease_model_cleaned_2020.ipynb#X32sZmlsZQ%3D%3D?line=10'>11</a>\u001b[0m \u001b[39mfor\u001b[39;00m feature_idx \u001b[39min\u001b[39;00m \u001b[39mrange\u001b[39m(num_features):\n\u001b[1;32m---> <a href='vscode-notebook-cell:/c%3A/Users/brand/OneDrive/Desktop/project_final/heart_disease_model_cleaned_2020.ipynb#X32sZmlsZQ%3D%3D?line=11'>12</a>\u001b[0m     \u001b[39mprint\u001b[39m(\u001b[39mf\u001b[39m\u001b[39m\"\u001b[39m\u001b[39mCol index: \u001b[39m\u001b[39m{\u001b[39;00mfeature_idx\u001b[39m}\u001b[39;00m\u001b[39m, Weight: \u001b[39m\u001b[39m{\u001b[39;00mweights_sum[feature_idx]\u001b[39m}\u001b[39;00m\u001b[39m\"\u001b[39m)\n",
      "\u001b[1;31mIndexError\u001b[0m: index 49 is out of bounds for axis 0 with size 49"
     ]
    }
   ],
   "source": [
    "import numpy as np\n",
    "\n",
    "num_features = len(filtered_df.columns)\n",
    "# get 1st layer weights\n",
    "input_layer_weights = nn.layers[0].get_weights()[0]\n",
    "\n",
    "# calc abs sum of weights\n",
    "weights_sum = np.sum((input_layer_weights), axis=1)\n",
    "\n",
    "print(\"Weights for each feature(column):\")\n",
    "for feature_idx in range(num_features):\n",
    "    print(f\"Col index: {feature_idx}, Weight: {weights_sum[feature_idx]}\")"
   ]
  },
  {
   "cell_type": "code",
   "execution_count": 97,
   "metadata": {},
   "outputs": [
    {
     "data": {
      "text/plain": [
       "Index(['HeartDisease', 'BMI', 'Smoking', 'AlcoholDrinking', 'Stroke',\n",
       "       'PhysicalHealthDays', 'MentalHealthDays', 'DifficultyWalking', 'Sex',\n",
       "       'AgeCategory', 'Race', 'Diabetic', 'PhysicalActivities',\n",
       "       'GeneralHealth', 'HoursOfSleep', 'Asthma', 'KidneyDisease',\n",
       "       'SkinCancer'],\n",
       "      dtype='object')"
      ]
     },
     "execution_count": 97,
     "metadata": {},
     "output_type": "execute_result"
    }
   ],
   "source": [
    "df.columns"
   ]
  },
  {
   "cell_type": "code",
   "execution_count": 100,
   "metadata": {},
   "outputs": [
    {
     "data": {
      "text/plain": [
       "Index(['BMI', 'PhysicalHealthDays', 'MentalHealthDays', 'HoursOfSleep',\n",
       "       'HeartDisease_No', 'HeartDisease_Yes', 'Smoking_No', 'Smoking_Yes',\n",
       "       'AlcoholDrinking_No', 'AlcoholDrinking_Yes', 'Stroke_No', 'Stroke_Yes',\n",
       "       'DifficultyWalking_No', 'DifficultyWalking_Yes', 'Sex_Female',\n",
       "       'Sex_Male', 'AgeCategory_18-24', 'AgeCategory_25-29',\n",
       "       'AgeCategory_30-34', 'AgeCategory_35-39', 'AgeCategory_40-44',\n",
       "       'AgeCategory_45-49', 'AgeCategory_50-54', 'AgeCategory_55-59',\n",
       "       'AgeCategory_60-64', 'AgeCategory_65-69', 'AgeCategory_70-74',\n",
       "       'AgeCategory_75-79', 'AgeCategory_80 or older',\n",
       "       'Race_American Indian/Alaskan Native', 'Race_Asian', 'Race_Black',\n",
       "       'Race_Hispanic', 'Race_Other', 'Race_White', 'Diabetic_No',\n",
       "       'Diabetic_Yes', 'Diabetic_Yes (during pregnancy)',\n",
       "       'PhysicalActivities_No', 'PhysicalActivities_Yes',\n",
       "       'GeneralHealth_Excellent', 'GeneralHealth_Fair', 'GeneralHealth_Good',\n",
       "       'GeneralHealth_Poor', 'GeneralHealth_Very good', 'Asthma_No',\n",
       "       'Asthma_Yes', 'KidneyDisease_No', 'KidneyDisease_Yes', 'SkinCancer_No',\n",
       "       'SkinCancer_Yes'],\n",
       "      dtype='object')"
      ]
     },
     "execution_count": 100,
     "metadata": {},
     "output_type": "execute_result"
    }
   ],
   "source": [
    "filtered_df.columns"
   ]
  },
  {
   "cell_type": "code",
   "execution_count": 55,
   "metadata": {
    "colab": {
     "base_uri": "https://localhost:8080/",
     "height": 430
    },
    "id": "fqsR2Rus-9R2",
    "outputId": "d69242f2-9b36-4588-f79a-17b3a15f7479"
   },
   "outputs": [
    {
     "data": {
      "image/png": "[encoded data removed]",
      "text/plain": [
       "<Figure size 640x480 with 1 Axes>"
      ]
     },
     "metadata": {},
     "output_type": "display_data"
    }
   ],
   "source": [
    "import matplotlib.pyplot as plt\n",
    "\n",
    "history_df = pd.DataFrame(fit_model.history, index=range(1,len(fit_model.history[\"loss\"])+1))\n",
    "\n",
    "# Plot the accuracy\n",
    "history_df.plot(y=\"accuracy\")\n",
    "plt.show()"
   ]
  },
  {
   "cell_type": "code",
   "execution_count": null,
   "metadata": {
    "colab": {
     "base_uri": "https://localhost:8080/",
     "height": 72
    },
    "id": "sWRYIMY7jJp1",
    "outputId": "1f58f026-5f5e-41c5-d655-d795b365c39e"
   },
   "outputs": [],
   "source": [
    "from google.colab import files\n",
    "\n",
    "nn.save('heart_disease_.h5')\n",
    "files.download('sleep_project.h5')"
   ]
  }
 ],
 "metadata": {
  "colab": {
   "provenance": []
  },
  "kernelspec": {
   "display_name": "Python 3 (ipykernel)",
   "language": "python",
   "name": "python3"
  },
  "language_info": {
   "codemirror_mode": {
    "name": "ipython",
    "version": 3
   },
   "file_extension": ".py",
   "mimetype": "text/x-python",
   "name": "python",
   "nbconvert_exporter": "python",
   "pygments_lexer": "ipython3",
   "version": "3.10.9"
  }
 },
 "nbformat": 4,
 "nbformat_minor": 1
}
