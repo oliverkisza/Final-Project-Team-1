{
  "nbformat": 4,
  "nbformat_minor": 0,
  "metadata": {
    "colab": {
      "provenance": []
    },
    "kernelspec": {
      "name": "python3",
      "display_name": "Python 3"
    },
    "language_info": {
      "name": "python"
    }
  },
  "cells": [
    {
      "cell_type": "code",
      "execution_count": 1,
      "metadata": {
        "colab": {
          "base_uri": "https://localhost:8080/"
        },
        "id": "jPwYVmxAr3Jj",
        "outputId": "1bed0f05-1775-4ad2-cd5d-916eb79d6063"
      },
      "outputs": [
        {
          "output_type": "stream",
          "name": "stdout",
          "text": [
            "Hit:1 https://cloud.r-project.org/bin/linux/ubuntu jammy-cran40/ InRelease\n",
            "Hit:2 https://developer.download.nvidia.com/compute/cuda/repos/ubuntu2204/x86_64  InRelease\n",
            "Get:3 http://security.ubuntu.com/ubuntu jammy-security InRelease [110 kB]\n",
            "Hit:4 http://archive.ubuntu.com/ubuntu jammy InRelease\n",
            "Get:5 http://archive.ubuntu.com/ubuntu jammy-updates InRelease [119 kB]\n",
            "Hit:6 http://archive.ubuntu.com/ubuntu jammy-backports InRelease\n",
            "Hit:7 https://ppa.launchpadcontent.net/c2d4u.team/c2d4u4.0+/ubuntu jammy InRelease\n",
            "Hit:8 https://ppa.launchpadcontent.net/deadsnakes/ppa/ubuntu jammy InRelease\n",
            "Hit:9 https://ppa.launchpadcontent.net/graphics-drivers/ppa/ubuntu jammy InRelease\n",
            "Hit:10 https://ppa.launchpadcontent.net/ubuntugis/ppa/ubuntu jammy InRelease\n",
            "Fetched 229 kB in 2s (142 kB/s)\n",
            "Reading package lists... Done\n"
          ]
        }
      ],
      "source": [
        "import os\n",
        "# Find the latest version of spark 3.x  from http://www.apache.org/dist/spark/ and enter as the spark version\n",
        "# For example:\n",
        "# spark_version = 'spark-3.4.2'\n",
        "spark_version = 'spark-3.4.2'\n",
        "os.environ['SPARK_VERSION']=spark_version\n",
        "\n",
        "# Install Spark and Java\n",
        "!apt-get update\n",
        "!apt-get install openjdk-11-jdk-headless -qq > /dev/null\n",
        "!wget -q http://www.apache.org/dist/spark/$SPARK_VERSION/$SPARK_VERSION-bin-hadoop3.tgz\n",
        "!tar xf $SPARK_VERSION-bin-hadoop3.tgz\n",
        "!pip install -q findspark\n",
        "\n",
        "# Set Environment Variables\n",
        "os.environ[\"JAVA_HOME\"] = \"/usr/lib/jvm/java-11-openjdk-amd64\"\n",
        "os.environ[\"SPARK_HOME\"] = f\"/content/{spark_version}-bin-hadoop3\"\n",
        "\n",
        "# Start a SparkSession\n",
        "import findspark\n",
        "findspark.init()"
      ]
    },
    {
      "cell_type": "code",
      "source": [
        "from pyspark.sql import SparkSession\n",
        "from pyspark.sql import SQLContext\n",
        "from pyspark.sql.functions import *\n",
        "from pyspark.sql.types import *\n",
        "spark = SparkSession.builder.master(\"local[*]\").getOrCreate()\n",
        "sqlContext = SQLContext(spark)"
      ],
      "metadata": {
        "colab": {
          "base_uri": "https://localhost:8080/"
        },
        "id": "ZcVu8Mc9sAbE",
        "outputId": "38ce9070-2b54-4d10-d9e4-4172968d254d"
      },
      "execution_count": 2,
      "outputs": [
        {
          "output_type": "stream",
          "name": "stderr",
          "text": [
            "/content/spark-3.4.2-bin-hadoop3/python/pyspark/sql/context.py:112: FutureWarning: Deprecated in 3.0.0. Use SparkSession.builder.getOrCreate() instead.\n",
            "  warnings.warn(\n"
          ]
        }
      ]
    },
    {
      "cell_type": "code",
      "source": [
        "import pandas as pd\n",
        "\n",
        "heartdata2020 = 'https://raw.githubusercontent.com/oliverkisza/Final-Project-Team-1/main/Resources/2020_cleaned.csv'\n",
        "\n",
        "pd_df = pd.read_csv(heartdata2020)\n",
        "heart2020_df = spark.createDataFrame(pd_df)\n",
        "\n",
        "heart2020_df.limit(5).show()"
      ],
      "metadata": {
        "colab": {
          "base_uri": "https://localhost:8080/"
        },
        "id": "depfc5cIsCfD",
        "outputId": "67754574-4137-4987-9ae3-f2ed1e564125"
      },
      "execution_count": 3,
      "outputs": [
        {
          "output_type": "stream",
          "name": "stdout",
          "text": [
            "+------------+-----+-------+---------------+------+------------------+----------------+-----------------+------+-----------+-----+--------+------------------+-------------+------------+------+-------------+----------+\n",
            "|HeartDisease|  BMI|Smoking|AlcoholDrinking|Stroke|PhysicalHealthDays|MentalHealthDays|DifficultyWalking|   Sex|AgeCategory| Race|Diabetic|PhysicalActivities|GeneralHealth|HoursOfSleep|Asthma|KidneyDisease|SkinCancer|\n",
            "+------------+-----+-------+---------------+------+------------------+----------------+-----------------+------+-----------+-----+--------+------------------+-------------+------------+------+-------------+----------+\n",
            "|          No| 16.6|    Yes|             No|    No|               3.0|            30.0|               No|Female|      55-59|White|     Yes|               Yes|    Very good|         5.0|   Yes|           No|       Yes|\n",
            "|          No|20.34|     No|             No|   Yes|               0.0|             0.0|               No|Female|80 or older|White|      No|               Yes|    Very good|         7.0|    No|           No|        No|\n",
            "|          No|26.58|    Yes|             No|    No|              20.0|            30.0|               No|  Male|      65-69|White|     Yes|               Yes|         Fair|         8.0|   Yes|           No|        No|\n",
            "|          No|24.21|     No|             No|    No|               0.0|             0.0|               No|Female|      75-79|White|      No|                No|         Good|         6.0|    No|           No|       Yes|\n",
            "|          No|23.71|     No|             No|    No|              28.0|             0.0|              Yes|Female|      40-44|White|      No|               Yes|    Very good|         8.0|    No|           No|        No|\n",
            "+------------+-----+-------+---------------+------+------------------+----------------+-----------------+------+-----------+-----+--------+------------------+-------------+------------+------+-------------+----------+\n",
            "\n"
          ]
        }
      ]
    },
    {
      "cell_type": "code",
      "source": [
        "heartdata2022 = 'https://raw.githubusercontent.com/oliverkisza/Final-Project-Team-1/main/Resources/cleaned_df.csv'\n",
        "\n",
        "pd_df = pd.read_csv(heartdata2022)\n",
        "heart2022_df = spark.createDataFrame(pd_df)\n",
        "\n",
        "heart2022_df.limit(5).show()"
      ],
      "metadata": {
        "colab": {
          "base_uri": "https://localhost:8080/"
        },
        "id": "Dmbs9lwSsJU-",
        "outputId": "e5e56563-5c00-457a-82d5-d691ac444908"
      },
      "execution_count": 4,
      "outputs": [
        {
          "output_type": "stream",
          "name": "stdout",
          "text": [
            "+-------------+---------------+------------+------------+---------------+-----------+----------+--------------+-----------------+-----+----------+--------+---------------------+----------------------+-----------------+------------------+------------+-------------+------------+-------------+------------+-------------+----------------+-----------------+----------+-----------+------------------------+-------------------------+-------------------+--------------------+---------------+----------------+----------------------+-----------------------+--------------------------+---------------------------+--------------------------+---------------------------+--------------------+---------------------+----------------------------+-----------------------------+--------------------+---------------------+------------+-------------+----------------------------------------------+------------------------------+-----------------------------------------------+---------------------------------------------------+----------------------------------------------+------------------+-------------------+-------------+--------------+---------------+----------------+----------------+-----------------+-------------------+--------------------+-----------+----------------------------------------------------------------------+------------+\n",
            "|GeneralHealth|LastCheckupTime|RemovedTeeth|SmokerStatus|ECigaretteUsage|AgeCategory|SleepHours|HeightInMeters|WeightInKilograms|  BMI|Sex_Female|Sex_Male|PhysicalActivities_No|PhysicalActivities_Yes|HadHeartAttack_No|HadHeartAttack_Yes|HadAngina_No|HadAngina_Yes|HadStroke_No|HadStroke_Yes|HadAsthma_No|HadAsthma_Yes|HadSkinCancer_No|HadSkinCancer_Yes|HadCOPD_No|HadCOPD_Yes|HadDepressiveDisorder_No|HadDepressiveDisorder_Yes|HadKidneyDisease_No|HadKidneyDisease_Yes|HadArthritis_No|HadArthritis_Yes|DeafOrHardOfHearing_No|DeafOrHardOfHearing_Yes|BlindOrVisionDifficulty_No|BlindOrVisionDifficulty_Yes|DifficultyConcentrating_No|DifficultyConcentrating_Yes|DifficultyWalking_No|DifficultyWalking_Yes|DifficultyDressingBathing_No|DifficultyDressingBathing_Yes|DifficultyErrands_No|DifficultyErrands_Yes|ChestScan_No|ChestScan_Yes|RaceEthnicityCategory_Black only, Non-Hispanic|RaceEthnicityCategory_Hispanic|RaceEthnicityCategory_Multiracial, Non-Hispanic|RaceEthnicityCategory_Other race only, Non-Hispanic|RaceEthnicityCategory_White only, Non-Hispanic|AlcoholDrinkers_No|AlcoholDrinkers_Yes|HIVTesting_No|HIVTesting_Yes|FluVaxLast12_No|FluVaxLast12_Yes|PneumoVaxEver_No|PneumoVaxEver_Yes|HighRiskLastYear_No|HighRiskLastYear_Yes|CovidPos_No|CovidPos_Tested positive using home test without a health professional|CovidPos_Yes|\n",
            "+-------------+---------------+------------+------------+---------------+-----------+----------+--------------+-----------------+-----+----------+--------+---------------------+----------------------+-----------------+------------------+------------+-------------+------------+-------------+------------+-------------+----------------+-----------------+----------+-----------+------------------------+-------------------------+-------------------+--------------------+---------------+----------------+----------------------+-----------------------+--------------------------+---------------------------+--------------------------+---------------------------+--------------------+---------------------+----------------------------+-----------------------------+--------------------+---------------------+------------+-------------+----------------------------------------------+------------------------------+-----------------------------------------------+---------------------------------------------------+----------------------------------------------+------------------+-------------------+-------------+--------------+---------------+----------------+----------------+-----------------+-------------------+--------------------+-----------+----------------------------------------------------------------------+------------+\n",
            "|          1.0|              0|           0|           0|              0|         12|       9.0|           1.7|            90.72|31.32|         1|       0|                    0|                     1|                1|                 0|           1|            0|           1|            0|           1|            0|               0|                1|         1|          0|                       0|                        1|                  1|                   0|              0|               1|                     1|                      0|                         1|                          0|                         1|                          0|                   0|                    1|                           1|                            0|                   1|                    0|           1|            0|                                             0|                             0|                                              0|                                                  0|                                             1|                 1|                  0|            1|             0|              0|               1|               0|                1|                  1|                   0|          0|                                                                     0|           1|\n",
            "|          2.0|              0|           1|           0|              0|         12|       5.0|          1.55|            79.38|33.07|         1|       0|                    0|                     1|                1|                 0|           1|            0|           1|            0|           1|            0|               1|                0|         1|          0|                       1|                        0|                  1|                   0|              0|               1|                     1|                      0|                         1|                          0|                         1|                          0|                   1|                    0|                           1|                            0|                   1|                    0|           1|            0|                                             0|                             0|                                              0|                                                  0|                                             1|                 1|                  0|            1|             0|              0|               1|               0|                1|                  1|                   0|          1|                                                                     0|           0|\n",
            "|          2.0|              0|           0|           0|              0|          6|       7.0|          1.85|            120.2|34.96|         0|       1|                    0|                     1|                1|                 0|           1|            0|           1|            0|           1|            0|               1|                0|         1|          0|                       1|                        0|                  1|                   0|              1|               0|                     1|                      0|                         1|                          0|                         1|                          0|                   1|                    0|                           1|                            0|                   1|                    0|           0|            1|                                             0|                             0|                                              0|                                                  0|                                             1|                 0|                  1|            0|             1|              0|               1|               1|                0|                  1|                   0|          1|                                                                     0|           0|\n",
            "|          2.0|              0|           2|           0|              0|         12|       8.0|          1.63|             88.0| 33.3|         1|       0|                    0|                     1|                1|                 0|           1|            0|           0|            1|           1|            0|               1|                0|         1|          0|                       1|                        0|                  1|                   0|              1|               0|                     1|                      0|                         1|                          0|                         1|                          0|                   1|                    0|                           1|                            0|                   1|                    0|           0|            1|                                             1|                             0|                                              0|                                                  0|                                             0|                 1|                  0|            1|             0|              0|               1|               0|                1|                  1|                   0|          1|                                                                     0|           0|\n",
            "|          1.0|              0|           1|           0|              0|         11|       8.0|          1.75|            74.84|24.37|         0|       1|                    0|                     1|                0|                 1|           0|            1|           1|            0|           1|            0|               0|                1|         1|          0|                       1|                        0|                  1|                   0|              0|               1|                     1|                      0|                         1|                          0|                         1|                          0|                   1|                    0|                           1|                            0|                   1|                    0|           0|            1|                                             0|                             0|                                              0|                                                  0|                                             1|                 1|                  0|            0|             1|              0|               1|               0|                1|                  1|                   0|          0|                                                                     0|           1|\n",
            "+-------------+---------------+------------+------------+---------------+-----------+----------+--------------+-----------------+-----+----------+--------+---------------------+----------------------+-----------------+------------------+------------+-------------+------------+-------------+------------+-------------+----------------+-----------------+----------+-----------+------------------------+-------------------------+-------------------+--------------------+---------------+----------------+----------------------+-----------------------+--------------------------+---------------------------+--------------------------+---------------------------+--------------------+---------------------+----------------------------+-----------------------------+--------------------+---------------------+------------+-------------+----------------------------------------------+------------------------------+-----------------------------------------------+---------------------------------------------------+----------------------------------------------+------------------+-------------------+-------------+--------------+---------------+----------------+----------------+-----------------+-------------------+--------------------+-----------+----------------------------------------------------------------------+------------+\n",
            "\n"
          ]
        }
      ]
    },
    {
      "cell_type": "markdown",
      "source": [
        "2020 Queries"
      ],
      "metadata": {
        "id": "rupHxwSvytfX"
      }
    },
    {
      "cell_type": "code",
      "source": [
        "heart2020_df.createOrReplaceTempView('heart20')"
      ],
      "metadata": {
        "id": "s72o_pWJs0yW"
      },
      "execution_count": 5,
      "outputs": []
    },
    {
      "cell_type": "code",
      "source": [
        "spark.sql('cache table heart20')"
      ],
      "metadata": {
        "colab": {
          "base_uri": "https://localhost:8080/"
        },
        "id": "ofBI7Hm-tz3Q",
        "outputId": "d0236328-1222-4a2f-b5af-8c45ec806d4c"
      },
      "execution_count": 6,
      "outputs": [
        {
          "output_type": "execute_result",
          "data": {
            "text/plain": [
              "DataFrame[]"
            ]
          },
          "metadata": {},
          "execution_count": 6
        }
      ]
    },
    {
      "cell_type": "code",
      "source": [
        "spark.catalog.isCached('heart20')"
      ],
      "metadata": {
        "colab": {
          "base_uri": "https://localhost:8080/"
        },
        "id": "kYOLJa76t5hF",
        "outputId": "3464f558-e8f1-4b76-e9ae-675be439e999"
      },
      "execution_count": 7,
      "outputs": [
        {
          "output_type": "execute_result",
          "data": {
            "text/plain": [
              "True"
            ]
          },
          "metadata": {},
          "execution_count": 7
        }
      ]
    },
    {
      "cell_type": "code",
      "source": [
        "a2020q1 = \"\"\"\n",
        "SELECT\n",
        "  HeartDisease,\n",
        "  COUNT(*) AS TOTAL,\n",
        "  ROUND(COUNT(CASE WHEN Smoking = 'Yes' THEN Smoking END) / TOTAL * 100,2) AS PERCENT_SMOKING,\n",
        "  ROUND(COUNT(CASE WHEN AlcoholDrinking = 'Yes' THEN AlcoholDrinking END) / TOTAL * 100,2) AS PERCENT_DRINKERS,\n",
        "  ROUND(COUNT(CASE WHEN Stroke = 'Yes' THEN Stroke END) / TOTAL * 100,2) AS PERCENT_STROKE,\n",
        "  ROUND(COUNT(CASE WHEN Diabetic = 'Yes' THEN Diabetic END) / TOTAL * 100,2) AS PERCENT_DIABETIC,\n",
        "  ROUND(COUNT(CASE WHEN Asthma = 'Yes' THEN Asthma END) / TOTAL * 100,2) AS PERCENT_ASTHMA,\n",
        "  ROUND(COUNT(CASE WHEN KidneyDisease = 'Yes' THEN KidneyDisease END) / TOTAL * 100,2) AS PERCENT_KIDNEY_DISEASE,\n",
        "  ROUND(COUNT(CASE WHEN SkinCancer = 'Yes' THEN SkinCancer END) / TOTAL * 100,2) AS PERCENT_SKIN_CANCER\n",
        "FROM heart20\n",
        "Group by HeartDisease\n",
        "ORDER BY HeartDisease DESC\n",
        "\"\"\"\n",
        "spark.sql(a2020q1).show()"
      ],
      "metadata": {
        "colab": {
          "base_uri": "https://localhost:8080/"
        },
        "id": "ikB-LCmCt8RA",
        "outputId": "46f0e860-d988-4fea-ef5e-4f73313af919"
      },
      "execution_count": 8,
      "outputs": [
        {
          "output_type": "stream",
          "name": "stdout",
          "text": [
            "+------------+------+---------------+----------------+--------------+----------------+--------------+----------------------+-------------------+\n",
            "|HeartDisease| TOTAL|PERCENT_SMOKING|PERCENT_DRINKERS|PERCENT_STROKE|PERCENT_DIABETIC|PERCENT_ASTHMA|PERCENT_KIDNEY_DISEASE|PERCENT_SKIN_CANCER|\n",
            "+------------+------+---------------+----------------+--------------+----------------+--------------+----------------------+-------------------+\n",
            "|         Yes| 26584|          58.66|            4.16|         16.07|           33.69|         17.89|                 12.65|              18.18|\n",
            "|          No|286430|          39.58|            7.09|           2.6|           11.12|          12.9|                  2.84|               8.47|\n",
            "+------------+------+---------------+----------------+--------------+----------------+--------------+----------------------+-------------------+\n",
            "\n"
          ]
        }
      ]
    },
    {
      "cell_type": "code",
      "source": [
        "a2020q2 = \"\"\"\n",
        "SELECT\n",
        "  GeneralHealth,\n",
        "  Count(GeneralHealth) AS Total,\n",
        "  COUNT(CASE WHEN HeartDisease = 'Yes' THEN HeartDisease END) AS HighRiskCount,\n",
        "  ROUND(HighRiskCount /  Total * 100,2) AS Percent_At_HighRisk\n",
        "FROM heart20\n",
        "GROUP BY GeneralHealth\n",
        "ORDER BY Percent_At_HighRisk ASC\n",
        "\"\"\"\n",
        "spark.sql(a2020q2).show()"
      ],
      "metadata": {
        "colab": {
          "base_uri": "https://localhost:8080/"
        },
        "id": "vZJA2PT8vibI",
        "outputId": "010f6e21-6ef4-4574-e3e1-047877ef06e5"
      },
      "execution_count": 17,
      "outputs": [
        {
          "output_type": "stream",
          "name": "stdout",
          "text": [
            "+-------------+------+-------------+-------------------+\n",
            "|GeneralHealth| Total|HighRiskCount|Percent_At_HighRisk|\n",
            "+-------------+------+-------------+-------------------+\n",
            "|    Excellent| 66095|         1465|               2.22|\n",
            "|    Very good|111792|         5239|               4.69|\n",
            "|         Good| 90635|         9265|              10.22|\n",
            "|         Fair| 33550|         6877|               20.5|\n",
            "|         Poor| 10942|         3738|              34.16|\n",
            "+-------------+------+-------------+-------------------+\n",
            "\n"
          ]
        }
      ]
    },
    {
      "cell_type": "code",
      "source": [
        "spark.sql('uncache table heart20')"
      ],
      "metadata": {
        "colab": {
          "base_uri": "https://localhost:8080/"
        },
        "id": "ovm5mcecv0Ny",
        "outputId": "fdc1bce3-215c-4cef-d6f5-41f7f506aa4b"
      },
      "execution_count": 10,
      "outputs": [
        {
          "output_type": "execute_result",
          "data": {
            "text/plain": [
              "DataFrame[]"
            ]
          },
          "metadata": {},
          "execution_count": 10
        }
      ]
    },
    {
      "cell_type": "code",
      "source": [
        "heart2020_df.toPandas().to_csv('2020_cleaned.csv')"
      ],
      "metadata": {
        "id": "Xwawd8u61Dgz"
      },
      "execution_count": 11,
      "outputs": []
    },
    {
      "cell_type": "markdown",
      "source": [
        "2022"
      ],
      "metadata": {
        "id": "Ia3mdtXwyqiB"
      }
    },
    {
      "cell_type": "code",
      "source": [
        "heart2022_df.createOrReplaceTempView('heart22')"
      ],
      "metadata": {
        "id": "CM403qfjv9CR"
      },
      "execution_count": 18,
      "outputs": []
    },
    {
      "cell_type": "code",
      "source": [
        "spark.sql('cache table heart22')"
      ],
      "metadata": {
        "colab": {
          "base_uri": "https://localhost:8080/"
        },
        "id": "p_-Vom4Pv1BX",
        "outputId": "9f2ce23e-7bbb-4804-e532-ce49fbb68a74"
      },
      "execution_count": 19,
      "outputs": [
        {
          "output_type": "execute_result",
          "data": {
            "text/plain": [
              "DataFrame[]"
            ]
          },
          "metadata": {},
          "execution_count": 19
        }
      ]
    },
    {
      "cell_type": "code",
      "source": [
        "a2022q1 = \"\"\"\n",
        "SELECT\n",
        "  AgeCategory,\n",
        "  COUNT(*) AS TOTAL,\n",
        "  ROUND(COUNT(CASE WHEN HighRiskLastYear_Yes = '1' THEN HighRiskLastYear_Yes END) / TOTAL * 100,2) AS PERCENT_AT_HIGHRISK\n",
        "FROM heart22\n",
        "GROUP BY AgeCategory\n",
        "ORDER BY AgeCategory DESC\n",
        "\"\"\"\n",
        "spark.sql(a2022q1).show()"
      ],
      "metadata": {
        "colab": {
          "base_uri": "https://localhost:8080/"
        },
        "id": "kQGOruf6v_Pb",
        "outputId": "cbe7fbe1-3304-4f86-d1b7-7717f1e0db51"
      },
      "execution_count": 28,
      "outputs": [
        {
          "output_type": "stream",
          "name": "stdout",
          "text": [
            "+-----------+-----+-------------------+\n",
            "|AgeCategory|TOTAL|PERCENT_AT_HIGHRISK|\n",
            "+-----------+-----+-------------------+\n",
            "|         12|12173|               0.58|\n",
            "|         11|11986|               0.68|\n",
            "|         10|16804|               1.03|\n",
            "|          9|18216|               1.34|\n",
            "|          8|17436|               1.83|\n",
            "|          7|14544|                2.7|\n",
            "|          6|12991|                3.9|\n",
            "|          5|10785|                4.9|\n",
            "|          4|10786|               6.58|\n",
            "|          3| 9716|                8.5|\n",
            "|          2| 8359|              11.32|\n",
            "|          1| 6979|               13.9|\n",
            "|          0| 8248|              15.74|\n",
            "+-----------+-----+-------------------+\n",
            "\n"
          ]
        }
      ]
    },
    {
      "cell_type": "code",
      "source": [
        "spark.sql('uncache table heart22')"
      ],
      "metadata": {
        "colab": {
          "base_uri": "https://localhost:8080/"
        },
        "id": "BnJiLS1G1Gqu",
        "outputId": "5a28a057-9b96-4119-f4bd-a210ec64cdf4"
      },
      "execution_count": 15,
      "outputs": [
        {
          "output_type": "execute_result",
          "data": {
            "text/plain": [
              "DataFrame[]"
            ]
          },
          "metadata": {},
          "execution_count": 15
        }
      ]
    },
    {
      "cell_type": "code",
      "source": [
        "heart2022_df.toPandas().to_csv('cleaned_df.csv')"
      ],
      "metadata": {
        "id": "nj1kLHA11GuX"
      },
      "execution_count": 16,
      "outputs": []
    }
  ]
}