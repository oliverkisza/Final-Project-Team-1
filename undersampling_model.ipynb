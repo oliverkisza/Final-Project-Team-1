{
 "cells": [
  {
   "cell_type": "code",
   "execution_count": 1,
   "metadata": {},
   "outputs": [
    {
     "name": "stderr",
     "output_type": "stream",
     "text": [
      "2023-12-14 21:58:46.401318: I tensorflow/core/platform/cpu_feature_guard.cc:182] This TensorFlow binary is optimized to use available CPU instructions in performance-critical operations.\n",
      "To enable the following instructions: AVX2 FMA, in other operations, rebuild TensorFlow with the appropriate compiler flags.\n"
     ]
    }
   ],
   "source": [
    "import numpy as np\n",
    "import pandas as pd\n",
    "import tensorflow as tf\n",
    "import matplotlib.pyplot as plt\n",
    "from sklearn.utils import resample\n",
    "from sklearn.preprocessing import StandardScaler\n",
    "from sklearn.metrics import classification_report\n",
    "from sklearn.model_selection import train_test_split\n",
    "from tensorflow.keras.callbacks import ModelCheckpoint"
   ]
  },
  {
   "cell_type": "code",
   "execution_count": 2,
   "metadata": {},
   "outputs": [
    {
     "data": {
      "text/html": [
       "<div>\n",
       "<style scoped>\n",
       "    .dataframe tbody tr th:only-of-type {\n",
       "        vertical-align: middle;\n",
       "    }\n",
       "\n",
       "    .dataframe tbody tr th {\n",
       "        vertical-align: top;\n",
       "    }\n",
       "\n",
       "    .dataframe thead th {\n",
       "        text-align: right;\n",
       "    }\n",
       "</style>\n",
       "<table border=\"1\" class=\"dataframe\">\n",
       "  <thead>\n",
       "    <tr style=\"text-align: right;\">\n",
       "      <th></th>\n",
       "      <th>HeartDisease_Yes</th>\n",
       "      <th>Smoking_No</th>\n",
       "      <th>Smoking_Yes</th>\n",
       "      <th>AlcoholDrinking_No</th>\n",
       "      <th>AlcoholDrinking_Yes</th>\n",
       "      <th>Stroke_No</th>\n",
       "      <th>Stroke_Yes</th>\n",
       "      <th>DifficultyWalking_No</th>\n",
       "      <th>DifficultyWalking_Yes</th>\n",
       "      <th>Sex_Female</th>\n",
       "      <th>...</th>\n",
       "      <th>Diabetic_No</th>\n",
       "      <th>Diabetic_Yes</th>\n",
       "      <th>PhysicalActivities_No</th>\n",
       "      <th>PhysicalActivities_Yes</th>\n",
       "      <th>Asthma_No</th>\n",
       "      <th>Asthma_Yes</th>\n",
       "      <th>KidneyDisease_No</th>\n",
       "      <th>KidneyDisease_Yes</th>\n",
       "      <th>SkinCancer_No</th>\n",
       "      <th>SkinCancer_Yes</th>\n",
       "    </tr>\n",
       "  </thead>\n",
       "  <tbody>\n",
       "    <tr>\n",
       "      <th>0</th>\n",
       "      <td>0</td>\n",
       "      <td>0</td>\n",
       "      <td>1</td>\n",
       "      <td>1</td>\n",
       "      <td>0</td>\n",
       "      <td>1</td>\n",
       "      <td>0</td>\n",
       "      <td>1</td>\n",
       "      <td>0</td>\n",
       "      <td>1</td>\n",
       "      <td>...</td>\n",
       "      <td>0</td>\n",
       "      <td>1</td>\n",
       "      <td>0</td>\n",
       "      <td>1</td>\n",
       "      <td>0</td>\n",
       "      <td>1</td>\n",
       "      <td>1</td>\n",
       "      <td>0</td>\n",
       "      <td>0</td>\n",
       "      <td>1</td>\n",
       "    </tr>\n",
       "    <tr>\n",
       "      <th>1</th>\n",
       "      <td>0</td>\n",
       "      <td>1</td>\n",
       "      <td>0</td>\n",
       "      <td>1</td>\n",
       "      <td>0</td>\n",
       "      <td>0</td>\n",
       "      <td>1</td>\n",
       "      <td>1</td>\n",
       "      <td>0</td>\n",
       "      <td>1</td>\n",
       "      <td>...</td>\n",
       "      <td>1</td>\n",
       "      <td>0</td>\n",
       "      <td>0</td>\n",
       "      <td>1</td>\n",
       "      <td>1</td>\n",
       "      <td>0</td>\n",
       "      <td>1</td>\n",
       "      <td>0</td>\n",
       "      <td>1</td>\n",
       "      <td>0</td>\n",
       "    </tr>\n",
       "    <tr>\n",
       "      <th>2</th>\n",
       "      <td>0</td>\n",
       "      <td>0</td>\n",
       "      <td>1</td>\n",
       "      <td>1</td>\n",
       "      <td>0</td>\n",
       "      <td>1</td>\n",
       "      <td>0</td>\n",
       "      <td>1</td>\n",
       "      <td>0</td>\n",
       "      <td>0</td>\n",
       "      <td>...</td>\n",
       "      <td>0</td>\n",
       "      <td>1</td>\n",
       "      <td>0</td>\n",
       "      <td>1</td>\n",
       "      <td>0</td>\n",
       "      <td>1</td>\n",
       "      <td>1</td>\n",
       "      <td>0</td>\n",
       "      <td>1</td>\n",
       "      <td>0</td>\n",
       "    </tr>\n",
       "    <tr>\n",
       "      <th>3</th>\n",
       "      <td>0</td>\n",
       "      <td>1</td>\n",
       "      <td>0</td>\n",
       "      <td>1</td>\n",
       "      <td>0</td>\n",
       "      <td>1</td>\n",
       "      <td>0</td>\n",
       "      <td>1</td>\n",
       "      <td>0</td>\n",
       "      <td>1</td>\n",
       "      <td>...</td>\n",
       "      <td>1</td>\n",
       "      <td>0</td>\n",
       "      <td>1</td>\n",
       "      <td>0</td>\n",
       "      <td>1</td>\n",
       "      <td>0</td>\n",
       "      <td>1</td>\n",
       "      <td>0</td>\n",
       "      <td>0</td>\n",
       "      <td>1</td>\n",
       "    </tr>\n",
       "    <tr>\n",
       "      <th>4</th>\n",
       "      <td>0</td>\n",
       "      <td>1</td>\n",
       "      <td>0</td>\n",
       "      <td>1</td>\n",
       "      <td>0</td>\n",
       "      <td>1</td>\n",
       "      <td>0</td>\n",
       "      <td>0</td>\n",
       "      <td>1</td>\n",
       "      <td>1</td>\n",
       "      <td>...</td>\n",
       "      <td>1</td>\n",
       "      <td>0</td>\n",
       "      <td>0</td>\n",
       "      <td>1</td>\n",
       "      <td>1</td>\n",
       "      <td>0</td>\n",
       "      <td>1</td>\n",
       "      <td>0</td>\n",
       "      <td>1</td>\n",
       "      <td>0</td>\n",
       "    </tr>\n",
       "  </tbody>\n",
       "</table>\n",
       "<p>5 rows × 21 columns</p>\n",
       "</div>"
      ],
      "text/plain": [
       "   HeartDisease_Yes  Smoking_No  Smoking_Yes  AlcoholDrinking_No  \\\n",
       "0                 0           0            1                   1   \n",
       "1                 0           1            0                   1   \n",
       "2                 0           0            1                   1   \n",
       "3                 0           1            0                   1   \n",
       "4                 0           1            0                   1   \n",
       "\n",
       "   AlcoholDrinking_Yes  Stroke_No  Stroke_Yes  DifficultyWalking_No  \\\n",
       "0                    0          1           0                     1   \n",
       "1                    0          0           1                     1   \n",
       "2                    0          1           0                     1   \n",
       "3                    0          1           0                     1   \n",
       "4                    0          1           0                     0   \n",
       "\n",
       "   DifficultyWalking_Yes  Sex_Female  ...  Diabetic_No  Diabetic_Yes  \\\n",
       "0                      0           1  ...            0             1   \n",
       "1                      0           1  ...            1             0   \n",
       "2                      0           0  ...            0             1   \n",
       "3                      0           1  ...            1             0   \n",
       "4                      1           1  ...            1             0   \n",
       "\n",
       "   PhysicalActivities_No  PhysicalActivities_Yes  Asthma_No  Asthma_Yes  \\\n",
       "0                      0                       1          0           1   \n",
       "1                      0                       1          1           0   \n",
       "2                      0                       1          0           1   \n",
       "3                      1                       0          1           0   \n",
       "4                      0                       1          1           0   \n",
       "\n",
       "   KidneyDisease_No  KidneyDisease_Yes  SkinCancer_No  SkinCancer_Yes  \n",
       "0                 1                  0              0               1  \n",
       "1                 1                  0              1               0  \n",
       "2                 1                  0              1               0  \n",
       "3                 1                  0              0               1  \n",
       "4                 1                  0              1               0  \n",
       "\n",
       "[5 rows x 21 columns]"
      ]
     },
     "execution_count": 2,
     "metadata": {},
     "output_type": "execute_result"
    }
   ],
   "source": [
    "df = pd.read_csv(\"Resources/2020_cleaned.csv\")\n",
    "df = df.drop([\"BMI\", \"PhysicalHealthDays\", \"MentalHealthDays\", \"AgeCategory\", \"Race\", \"GeneralHealth\", \"HoursOfSleep\"], axis=1)\n",
    "df = df[df['Diabetic'].isin(['Yes', 'No'])] #remove non yes/no diabetic responses\n",
    "#convert to dummies\n",
    "df = pd.get_dummies(df)\n",
    "#drop HD_no so we only have 1 target col\n",
    "df = df.drop(\"HeartDisease_No\", axis=1)\n",
    "#convert to 1/0 \n",
    "df = df.astype(int)\n",
    "df.head()"
   ]
  },
  {
   "cell_type": "code",
   "execution_count": 3,
   "metadata": {},
   "outputs": [],
   "source": [
    "#set feature/ target cols & train/test data before any resampling\n",
    "target = df['HeartDisease_Yes']\n",
    "features = df.drop(['HeartDisease_Yes'], axis=1)\n",
    "X_train, X_test, y_train, y_test = train_test_split(features, target, random_state=42, test_size=0.5)"
   ]
  },
  {
   "cell_type": "code",
   "execution_count": 4,
   "metadata": {},
   "outputs": [],
   "source": [
    "#undersampling: randomly remove portion of rows with \"No\" responses only from training data\n",
    "#removed 90% of \"No\" responses b/c ratio of \"No\" to \"Yes\" was ~10:1 (91% n, 9% y)\n",
    "#put training data back together\n",
    "train_data = pd.concat([X_train, y_train], axis=1)\n",
    "\n",
    "# define yes/no classes in heartdisease_yes col \n",
    "majority_class_train = train_data[train_data['HeartDisease_Yes'] == 0]\n",
    "minority_class_train = train_data[train_data['HeartDisease_Yes'] == 1]\n",
    "\n",
    "# undersample majority class (no/0)\n",
    "undersampled_majority_train = resample(majority_class_train, replace=False, n_samples=int(0.2 * len(minority_class_train)), random_state=42)\n",
    "\n",
    "# put no and yes back together\n",
    "train_resampled = pd.concat([undersampled_majority_train, minority_class_train])\n",
    "\n",
    "# set feature & target cols again w/ resampled train data\n",
    "y_train_resampled = train_resampled['HeartDisease_Yes']\n",
    "X_train_resampled = train_resampled.drop('HeartDisease_Yes', axis=1)"
   ]
  },
  {
   "cell_type": "code",
   "execution_count": 5,
   "metadata": {},
   "outputs": [
    {
     "name": "stdout",
     "output_type": "stream",
     "text": [
      "Model: \"sequential\"\n",
      "_________________________________________________________________\n",
      " Layer (type)                Output Shape              Param #   \n",
      "=================================================================\n",
      " dense (Dense)               (None, 15)                315       \n",
      "                                                                 \n",
      " dense_1 (Dense)             (None, 1)                 16        \n",
      "                                                                 \n",
      "=================================================================\n",
      "Total params: 331 (1.29 KB)\n",
      "Trainable params: 331 (1.29 KB)\n",
      "Non-trainable params: 0 (0.00 Byte)\n",
      "_________________________________________________________________\n"
     ]
    }
   ],
   "source": [
    "#model structure\n",
    "nn = tf.keras.models.Sequential()\n",
    "nn.add(tf.keras.layers.Dense(units=15, activation='relu', input_dim=X_train_resampled.shape[1]))\n",
    "nn.add(tf.keras.layers.Dense(units=1, activation='sigmoid'))\n",
    "nn.summary()"
   ]
  },
  {
   "cell_type": "code",
   "execution_count": 6,
   "metadata": {},
   "outputs": [],
   "source": [
    "# save weights callback\n",
    "checkpoint_path = \"model2_checkpoint/checkpoint_{epoch:02d}\"\n",
    "checkpoint_callback = ModelCheckpoint(filepath=checkpoint_path, save_weights_only=True, save_freq=1)"
   ]
  },
  {
   "cell_type": "code",
   "execution_count": 7,
   "metadata": {},
   "outputs": [],
   "source": [
    "# compile model\n",
    "nn.compile(loss='binary_crossentropy', optimizer='adam', metrics=['accuracy'])"
   ]
  },
  {
   "cell_type": "code",
   "execution_count": 8,
   "metadata": {},
   "outputs": [
    {
     "name": "stdout",
     "output_type": "stream",
     "text": [
      "248/248 - 5s - loss: 0.5727 - accuracy: 0.6924 - val_loss: 0.3142 - val_accuracy: 0.9508 - 5s/epoch - 21ms/step\n"
     ]
    }
   ],
   "source": [
    "# train model \n",
    "model = nn.fit(X_train_resampled.values, y_train_resampled.values, epochs=1, callbacks=[checkpoint_callback], verbose=2, validation_split=0.5)"
   ]
  },
  {
   "cell_type": "code",
   "execution_count": 9,
   "metadata": {},
   "outputs": [
    {
     "name": "stdout",
     "output_type": "stream",
     "text": [
      "4851/4851 [==============================] - 5s 923us/step\n",
      "              precision    recall  f1-score   support\n",
      "\n",
      "           0       0.98      0.22      0.36    141962\n",
      "           1       0.10      0.95      0.18     13266\n",
      "\n",
      "    accuracy                           0.28    155228\n",
      "   macro avg       0.54      0.58      0.27    155228\n",
      "weighted avg       0.90      0.28      0.34    155228\n",
      "\n"
     ]
    }
   ],
   "source": [
    "#predictions for classification report\n",
    "y_pred = nn.predict(X_test.values)\n",
    "y_pred_classes = (y_pred > 0.5).astype(int)\n",
    "# classification report\n",
    "report = classification_report(y_test.values, y_pred_classes)\n",
    "print(report)"
   ]
  },
  {
   "cell_type": "code",
   "execution_count": 10,
   "metadata": {},
   "outputs": [
    {
     "name": "stdout",
     "output_type": "stream",
     "text": [
      "0.504, Stroke_Yes\n",
      "0.487, SkinCancer_No\n",
      "0.481, DifficultyWalking_Yes\n",
      "0.479, Diabetic_Yes\n",
      "0.462, KidneyDisease_Yes\n",
      "0.442, SkinCancer_Yes\n",
      "0.419, PhysicalActivities_Yes\n",
      "0.415, Asthma_Yes\n",
      "0.411, Sex_Female\n",
      "0.392, AlcoholDrinking_No\n",
      "0.373, Asthma_No\n",
      "0.372, Sex_Male\n",
      "0.354, Stroke_No\n",
      "0.353, AlcoholDrinking_Yes\n",
      "0.344, DifficultyWalking_No\n",
      "0.34, PhysicalActivities_No\n",
      "0.332, Smoking_Yes\n",
      "0.331, Smoking_No\n",
      "0.316, KidneyDisease_No\n",
      "0.305, Diabetic_No\n"
     ]
    }
   ],
   "source": [
    "#get weights\n",
    "weights = nn.get_weights()\n",
    "layer1_weights = weights[0]\n",
    "feature_names = X_train.columns\n",
    "feature_weights = dict(zip(feature_names, layer1_weights))\n",
    "sorted_features = sorted(feature_weights.items(), key=lambda x: x[1].max(), reverse=True)\n",
    "for feature, weight in sorted_features:\n",
    "    print(f\"{weight.max():.3}, {feature}\")"
   ]
  },
  {
   "cell_type": "code",
   "execution_count": 11,
   "metadata": {},
   "outputs": [
    {
     "data": {
      "image/png": "[encoded data removed]",
      "text/plain": [
       "<Figure size 640x480 with 1 Axes>"
      ]
     },
     "metadata": {},
     "output_type": "display_data"
    }
   ],
   "source": [
    "#plot weights\n",
    "sorted_features = sorted(sorted_features, key=lambda x: x[1].max(), reverse=True)\n",
    "features, weights = zip(*sorted_features)\n",
    "positions = np.arange(len(features))\n",
    "plt.barh(positions, [weight.max() for weight in weights])\n",
    "plt.yticks(positions, features)\n",
    "plt.title('Feature weights (Undersampling Model)')\n",
    "plt.gca().invert_yaxis()\n",
    "plt.tight_layout()\n",
    "plt.show()"
   ]
  }
 ],
 "metadata": {
  "kernelspec": {
   "display_name": "Python 3 (ipykernel)",
   "language": "python",
   "name": "python3"
  },
  "language_info": {
   "codemirror_mode": {
    "name": "ipython",
    "version": 3
   },
   "file_extension": ".py",
   "mimetype": "text/x-python",
   "name": "python",
   "nbconvert_exporter": "python",
   "pygments_lexer": "ipython3",
   "version": "3.10.12"
  }
 },
 "nbformat": 4,
 "nbformat_minor": 2
}
